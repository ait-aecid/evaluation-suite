{
 "cells": [
  {
   "cell_type": "code",
   "execution_count": 2,
   "metadata": {},
   "outputs": [
    {
     "name": "stdout",
     "output_type": "stream",
     "text": [
      "\n",
      "------------------------------- DATA EXTRACTION -------------------------------\n",
      "Retrieved previously parsed data.\n",
      "Data extraction finished. (runtime: 0.06314778327941895)\n",
      "\n",
      "------------------------------------ INFO -------------------------------------\n",
      "\n",
      "Date range:       [2022-01-21 05:55:22+00:00] to [2022-01-24 20:59:10+00:00]\n",
      "Attack period:    [2022-01-24 03:56:53+00:00] to [2022-01-24 04:37:25+00:00]\n",
      "Training period:  [2022-01-21 05:55:22+00:00] to [2022-01-24 03:56:53+00:00]\n",
      "Training time:    [2 days 22:01:31]\n",
      "Attack offset:    2053\n",
      "Training samples: 2884\n",
      "Test samples:     8300\n",
      "\n",
      "--------------------------------- EVALUATION ----------------------------------\n",
      "(running in Jupyter notebook)\n",
      "Training AMiner ...\n",
      "Finished. (runtime: 6.281466007232666)\n",
      "Testing AMiner ...\n",
      "Finished. (runtime: 10.715744733810425)\n",
      "Raw results saved to: /tmp/aminer_out.json\n",
      "Evaluating results...\n",
      "Evaluation finished. (runtime: 0.46492719650268555)\n",
      "\n",
      "Absolute (point-anomaly): {'FP': 0, 'TN': 604, 'TP': 7696, 'FN': 0}\n",
      "Relative (point-anomaly): {'Accuracy': 1.0, 'Precision': 1.0, 'Recall': 1.0, 'F1': 1.0} \n",
      "\n",
      "Absolute (collective-anomaly): {'FP': 0, 'TN': 8293, 'TP': 7, 'FN': 0}\n",
      "Relative (collective-anomaly): {'Accuracy': 1.0, 'Precision': 1.0, 'Recall': 1.0, 'F1': 1.0}\n"
     ]
    }
   ],
   "source": [
    "from lib.EvaluationSuite import EvaluationSuite\n",
    "\n",
    "evaluator = EvaluationSuite(\n",
    "    data_dir=\"data/russellmitchell/gather/intranet_server/logs/apache2\",\n",
    "    label_file_path=\"data/russellmitchell/labels/intranet_server/logs/apache2/intranet.smith.russellmitchell.com-access.log.2\",\n",
    "    config_file_path=\"example_config.yaml\", # only 'Analysis' part is relevant\n",
    "    parser_name=\"ApacheAccessParsingModel\",\n",
    ")\n",
    "evaluator.evaluate(detector_ids=\"1\")"
   ]
  }
 ],
 "metadata": {
  "kernelspec": {
   "display_name": "Python 3",
   "language": "python",
   "name": "python3"
  },
  "language_info": {
   "codemirror_mode": {
    "name": "ipython",
    "version": 3
   },
   "file_extension": ".py",
   "mimetype": "text/x-python",
   "name": "python",
   "nbconvert_exporter": "python",
   "pygments_lexer": "ipython3",
   "version": "3.8.10"
  },
  "orig_nbformat": 4
 },
 "nbformat": 4,
 "nbformat_minor": 2
}
