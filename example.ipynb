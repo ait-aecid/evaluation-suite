{
 "cells": [
  {
   "cell_type": "code",
   "execution_count": 1,
   "metadata": {},
   "outputs": [],
   "source": [
    "import sys\n",
    "sys.path.append(\"log-preprocessor\")\n",
    "from Data import Data\n",
    "\n",
    "from lib.AMinerModel import AMinerModel\n",
    "import yaml"
   ]
  },
  {
   "cell_type": "code",
   "execution_count": 2,
   "metadata": {},
   "outputs": [
    {
     "name": "stdout",
     "output_type": "stream",
     "text": [
      "Retrieved previously parsed data.\n"
     ]
    }
   ],
   "source": [
    "save_path = \"/tmp/aminer/test.log\"\n",
    "\n",
    "data = Data(\n",
    "    \"/home/viktor/projects/aecid/evaluation-suite/data/russellmitchell/gather/intranet_server/logs/apache2\",\n",
    "    \"ApacheAccessParsingModel\",\n",
    "    tmp_save_path=save_path,\n",
    ")\n",
    "\n",
    "df = data.get_df()\n",
    "\n",
    "with open(\"/home/viktor/projects/aecid/aminer-configuration-engine/output/EventSequenceDetector/ApacheAccessParsingModel/CE_S2053/config.yaml\") as file:\n",
    "    config = yaml.safe_load(file)\n",
    "\n",
    "\n",
    "model = AMinerModel(\n",
    "    config,\n",
    "    True,\n",
    "    input_path=save_path\n",
    ")"
   ]
  },
  {
   "cell_type": "code",
   "execution_count": 3,
   "metadata": {},
   "outputs": [],
   "source": [
    "model.fit(df.iloc[0:2000])"
   ]
  },
  {
   "cell_type": "code",
   "execution_count": 4,
   "metadata": {},
   "outputs": [
    {
     "name": "stdout",
     "output_type": "stream",
     "text": [
      "Raw results saved to: /tmp/aminer_out.json\n"
     ]
    }
   ],
   "source": [
    "model.predict(df.iloc[2000:])"
   ]
  }
 ],
 "metadata": {
  "kernelspec": {
   "display_name": "Python 3",
   "language": "python",
   "name": "python3"
  },
  "language_info": {
   "codemirror_mode": {
    "name": "ipython",
    "version": 3
   },
   "file_extension": ".py",
   "mimetype": "text/x-python",
   "name": "python",
   "nbconvert_exporter": "python",
   "pygments_lexer": "ipython3",
   "version": "3.8.10"
  },
  "orig_nbformat": 4
 },
 "nbformat": 4,
 "nbformat_minor": 2
}
